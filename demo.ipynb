{
  "cells": [
    {
      "cell_type": "markdown",
      "metadata": {
        "id": "Ws_9T79c20dM"
      },
      "source": [
        "# 종합설계1 Demo\n",
        "## 번역 기반 다언어 MRC 프레임워크"
      ]
    },
    {
      "cell_type": "markdown",
      "metadata": {
        "id": "kimPcPXd3S4K"
      },
      "source": [
        "## Main Idea\n",
        "\n",
        "0. 입력(질문, 지문) 언어 감지\n",
        "\n",
        "#### 질문\n",
        "\n",
        "1. 질문을 영어로 변환, 전처리를 통해 키워드 추출\n",
        "2. 동의어,유의어를 활용한 키워드 증강\n",
        "3. 키워드 집합을 지문의 언어로 번역하여 집합 재구성\n",
        "\n",
        "#### 지문\n",
        "\n",
        "1. 문장단위로 분할\n",
        "2. 질문(3)의 키워드 집합에 대한 출현 빈도 집계\n",
        "3. 범위 단위의 번역 우선순위 지정\n",
        "4. 번역 범위 우선순위에 따른 번역 수행\n"
      ]
    },
    {
      "cell_type": "markdown",
      "metadata": {
        "id": "2FZkdif950Is"
      },
      "source": [
        "####  **기초 설정**\n",
        "\n",
        "SQUAD 데이터셋 중 가장 긴 data에 대하여 데모 수행\n",
        "\n",
        "```\n",
        "{'answers': {'answer_start': [602], 'text': ['the Great Desert']},\n",
        " 'context': \"The sky is usually clear above the desert and the sunshine duration is extremely high everywhere in the Sahara. Most of the desert enjoys more than 3,600 h of bright sunshine annually or over 82% of the time and a wide area in the eastern part experiences in excess of 4,000 h of bright sunshine a year or over 91% of the time, and the highest values are very close to the theoretical maximum value. A value of 4,300 h or 98% of the time would be recorded in Upper Egypt (Aswan, Luxor) and in the Nubian Desert (Wadi Halfa). The annual average direct solar irradiation is around 2,800 kWh/(m2 year) in the Great Desert. The Sahara has a huge potential for solar energy production. The constantly high position of the sun, the extremely low relative humidity, the lack of vegetation and rainfall make the Great Desert the hottest continuously large area worldwide and certainly the hottest place on Earth during summertime in some spots. The average high temperature exceeds 38 °C (100.4 °F) - 40 °C (104 °F) during the hottest month nearly everywhere in the desert except at very high mountainous areas. The highest officially recorded average high temperature was 47 °C (116.6 °F) in a remote desert town in the Algerian Desert called Bou Bernous with an elevation of 378 meters above sea level. It's the world's highest recorded average high temperature and only Death Valley, California rivals it. Other hot spots in Algeria such as Adrar, Timimoun, In Salah, Ouallene, Aoulef, Reggane with an elevation between 200 and 400 meters above sea level get slightly lower summer average highs around 46 °C (114.8 °F) during the hottest months of the year. Salah, well known in Algeria for its extreme heat, has an average high temperature of 43.8 °C (110.8 °F), 46.4 °C (115.5 °F), 45.5 (113.9 °F). Furthermore, 41.9 °C (107.4 °F) in June, July, August and September. In fact, there are even hotter spots in the Sahara, but they are located in extremely remote areas, especially in the Azalai, lying in northern Mali. The major part of the desert experiences around 3 – 5 months when the average high strictly exceeds 40 °C (104 °F). The southern central part of the desert experiences up to 6 – 7 months when the average high temperature strictly exceeds 40 °C (104 °F) which shows the constancy and the length of the really hot season in the Sahara. Some examples of this are Bilma, Niger and Faya-Largeau, Chad. The annual average daily temperature exceeds 20 °C (68 °F) everywhere and can approach 30 °C (86 °F) in the hottest regions year-round. However, most of the desert has a value in excess of 25 °C (77 °F). The sand and ground temperatures are even more extreme. During daytime, the sand temperature is extremely high as it can easily reach 80 °C (176 °F) or more. A sand temperature of 83.5 °C (182.3 °F) has been recorded in Port Sudan. Ground temperatures of 72 °C (161.6 °F) have been recorded in the Adrar of Mauritania and a value of 75 °C (167 °F) has been measured in Borkou, northern Chad. Due to lack of cloud cover and very low humidity, the desert usually features high diurnal temperature variations between days and nights. However, it's a myth that the nights are cold after extremely hot days in the Sahara. The average diurnal temperature range is typically between 13 °C (55.4 °F) and 20 °C (68 °F). The lowest values are found along the coastal regions due to high humidity and are often even lower than 10 °C (50 °F), while the highest values are found in inland desert areas where the humidity is the lowest, mainly in the southern Sahara. Still, it's true that winter nights can be cold as it can drop to the freezing point and even below, especially in high-elevation areas.\",\n",
        " 'id': '5728c4163acd2414000dfddf',\n",
        " 'question': 'What is the largest hottest continuously large area   worldwide?',\n",
        " 'title': 'Sahara'}\n",
        "```"
      ]
    },
    {
      "cell_type": "code",
      "execution_count": 1,
      "metadata": {
        "id": "8sejZRsu6cXB"
      },
      "outputs": [],
      "source": [
        "example = {'answers': {'answer_start': [602], 'text': ['the Great Desert']},\n",
        " 'context': \"The sky is usually clear above the desert and the sunshine duration is extremely high everywhere in the Sahara. Most of the desert enjoys more than 3,600 h of bright sunshine annually or over 82% of the time and a wide area in the eastern part experiences in excess of 4,000 h of bright sunshine a year or over 91% of the time, and the highest values are very close to the theoretical maximum value. A value of 4,300 h or 98% of the time would be recorded in Upper Egypt (Aswan, Luxor) and in the Nubian Desert (Wadi Halfa). The annual average direct solar irradiation is around 2,800 kWh/(m2 year) in the Great Desert. The Sahara has a huge potential for solar energy production. The constantly high position of the sun, the extremely low relative humidity, the lack of vegetation and rainfall make the Great Desert the hottest continuously large area worldwide and certainly the hottest place on Earth during summertime in some spots. The average high temperature exceeds 38 °C (100.4 °F) - 40 °C (104 °F) during the hottest month nearly everywhere in the desert except at very high mountainous areas. The highest officially recorded average high temperature was 47 °C (116.6 °F) in a remote desert town in the Algerian Desert called Bou Bernous with an elevation of 378 meters above sea level. It's the world's highest recorded average high temperature and only Death Valley, California rivals it. Other hot spots in Algeria such as Adrar, Timimoun, In Salah, Ouallene, Aoulef, Reggane with an elevation between 200 and 400 meters above sea level get slightly lower summer average highs around 46 °C (114.8 °F) during the hottest months of the year. Salah, well known in Algeria for its extreme heat, has an average high temperature of 43.8 °C (110.8 °F), 46.4 °C (115.5 °F), 45.5 (113.9 °F). Furthermore, 41.9 °C (107.4 °F) in June, July, August and September. In fact, there are even hotter spots in the Sahara, but they are located in extremely remote areas, especially in the Azalai, lying in northern Mali. The major part of the desert experiences around 3 – 5 months when the average high strictly exceeds 40 °C (104 °F). The southern central part of the desert experiences up to 6 – 7 months when the average high temperature strictly exceeds 40 °C (104 °F) which shows the constancy and the length of the really hot season in the Sahara. Some examples of this are Bilma, Niger and Faya-Largeau, Chad. The annual average daily temperature exceeds 20 °C (68 °F) everywhere and can approach 30 °C (86 °F) in the hottest regions year-round. However, most of the desert has a value in excess of 25 °C (77 °F). The sand and ground temperatures are even more extreme. During daytime, the sand temperature is extremely high as it can easily reach 80 °C (176 °F) or more. A sand temperature of 83.5 °C (182.3 °F) has been recorded in Port Sudan. Ground temperatures of 72 °C (161.6 °F) have been recorded in the Adrar of Mauritania and a value of 75 °C (167 °F) has been measured in Borkou, northern Chad. Due to lack of cloud cover and very low humidity, the desert usually features high diurnal temperature variations between days and nights. However, it's a myth that the nights are cold after extremely hot days in the Sahara. The average diurnal temperature range is typically between 13 °C (55.4 °F) and 20 °C (68 °F). The lowest values are found along the coastal regions due to high humidity and are often even lower than 10 °C (50 °F), while the highest values are found in inland desert areas where the humidity is the lowest, mainly in the southern Sahara. Still, it's true that winter nights can be cold as it can drop to the freezing point and even below, especially in high-elevation areas.\",\n",
        " 'id': '5728c4163acd2414000dfddf',\n",
        " 'question': 'What is the largest hottest continuously large area   worldwide?',\n",
        " 'title': 'Sahara'}"
      ]
    },
    {
      "cell_type": "code",
      "execution_count": 2,
      "metadata": {
        "id": "LskyeI_D7Uti"
      },
      "outputs": [],
      "source": [
        "question = \"世界で最も暑く継続的に広い地域はどれですか？\" # Answer : the Great Desert "
      ]
    },
    {
      "cell_type": "code",
      "execution_count": 3,
      "metadata": {
        "id": "1EmHY99_67mS"
      },
      "outputs": [],
      "source": [
        "context = \"하늘은 일반적으로 사막 위의 맑음이며 일조 지속 시간은 사하라 사막의 모든 곳에서 매우 높습니다. 대부분의 사막은 연간 3,600시간 이상의 밝은 일조 또는 82% 이상의 시간을 경험하고 동부의 넓은 지역은 연간 4,000시간 이상의 밝은 일조 또는 91% 이상의 시간을 경험하며, 가장 높은 값은 이론상 최대값에 매우 가깝습니다. 시간의 98%인 4,300시간의 값은 상이집트(아스완, 룩소르)와 누비아 사막(와디 할파)에서 기록될 것입니다. 대사막의 연간 평균 직사광선 조사량은 약 2,800kWh/(m2/년)입니다. 사하라 사막은 태양 에너지 생산에 대한 거대한 잠재력을 가지고 있습니다. 지속적으로 높은 태양의 위치, 극도로 낮은 상대 습도, 초목과 강우의 부족으로 인해 대사막은 전 세계적으로 계속해서 가장 더운 지역이 되었으며 여름에는 확실히 어떤 지역에서는 지구상에서 가장 더운 곳이 되었습니다. 평균 고온은 매우 높은 산악 지역을 제외하고 사막의 거의 모든 곳에서 가장 더운 달 동안 38°C(100.4°F) - 40°C(104°F)를 초과합니다. 공식적으로 기록된 최고 평균 최고 기온은 해발 378m의 Bou Bernous라고 불리는 알제리 사막의 외딴 사막 마을에서 47°C(116.6°F)였습니다. 그것은 세계에서 가장 높은 기록된 평균 고온이며 캘리포니아의 데스 밸리(Death Valley)만이 이에 필적합니다. Adrar, Timimoun, In Salah, Ouallene, Aoulef, Reggane과 같은 알제리의 다른 핫스팟은 해발 200~400미터 높이에서 가장 더운 달 동안 46°C(114.8°F) 주변에서 약간 더 낮은 여름 평균 최고치를 얻습니다. 그 해. 알제리에서 극심한 더위로 잘 알려진 Salah의 평균 고온은 43.8°C(110.8°F), 46.4°C(115.5°F), 45.5(113.9°F)입니다. 또한 6월, 7월, 8월, 9월에는 41.9°C(107.4°F)입니다. 사실, 사하라 사막에는 더 뜨거운 곳이 있지만 그들은 극도로 외딴 지역, 특히 북부 말리의 아잘라이 지역에 위치하고 있습니다. 사막의 대부분은 평균 최고 온도가 40°C(104°F)를 엄격히 초과하는 약 3~5개월을 경험합니다. 사막의 남쪽 중앙 부분은 평균 고온이 40°C(104°F)를 엄격히 초과하는 최대 6-7개월을 경험하며 이는 사하라 사막의 정말 더운 계절의 지속성과 길이를 보여줍니다. 이에 대한 몇 가지 예는 니제르의 Bilma와 Chad의 Faya-Largeau입니다. 연간 평균 일일 온도는 모든 곳에서 20°C(68°F)를 초과하고 연중 가장 더운 지역에서는 30°C(86°F)에 도달할 수 있습니다. 그러나 대부분의 사막은 25°C(77°F)를 초과하는 값을 가지고 있습니다. 모래와 땅의 온도는 훨씬 더 극단적입니다. 주간에는 모래 온도가 80°C(176°F) 이상에 쉽게 도달할 수 있으므로 매우 높습니다. 포트 수단의 모래 온도는 83.5 °C(182.3 °F)로 기록되었습니다. 72°C(161.6°F)의 지상 온도는 모리타니의 Adarr에서 기록되었으며 75°C(167°F)의 값은 북부 차드의 Borkou에서 측정되었습니다. 구름이 적고 습도가 매우 낮기 때문에 사막은 일반적으로 낮과 밤의 일교차가 높습니다. 그러나 사하라 사막에서 매우 더운 날이 지나면 밤이 춥다는 것은 신화입니다. 평균 주간 온도 범위는 일반적으로 13°C(55.4°F)에서 20°C(68°F) 사이입니다. 가장 낮은 값은 높은 습도로 인해 해안 지역에서 발견되며 종종 10°C(50°F)보다 더 낮습니다. 반면 가장 높은 값은 습도가 가장 낮은 내륙 사막 지역, 주로 남부 사하라 사막에서 발견됩니다. . 그래도 겨울 밤은 영하로 떨어질 수 있고 특히 고도가 높은 지역에서는 영하로 떨어질 수 있기 때문에 추울 수 있는 것이 사실입니다.\""
      ]
    },
    {
      "cell_type": "markdown",
      "metadata": {
        "id": "i1i2KG_L8Lyw"
      },
      "source": [
        "#### **0.입력 언어 감지**"
      ]
    },
    {
      "cell_type": "code",
      "execution_count": 4,
      "metadata": {
        "colab": {
          "base_uri": "https://localhost:8080/",
          "height": 0
        },
        "id": "nsC82cSB8Rgd",
        "outputId": "4e977baa-6e5f-4703-e0b0-0dbf391e3c39"
      },
      "outputs": [
        {
          "name": "stdout",
          "output_type": "stream",
          "text": [
            "Looking in indexes: https://pypi.org/simple, https://us-python.pkg.dev/colab-wheels/public/simple/\n",
            "Requirement already satisfied: googletrans==4.0.0-rc1 in /usr/local/lib/python3.7/dist-packages (4.0.0rc1)\n",
            "Requirement already satisfied: httpx==0.13.3 in /usr/local/lib/python3.7/dist-packages (from googletrans==4.0.0-rc1) (0.13.3)\n",
            "Requirement already satisfied: rfc3986<2,>=1.3 in /usr/local/lib/python3.7/dist-packages (from httpx==0.13.3->googletrans==4.0.0-rc1) (1.5.0)\n",
            "Requirement already satisfied: httpcore==0.9.* in /usr/local/lib/python3.7/dist-packages (from httpx==0.13.3->googletrans==4.0.0-rc1) (0.9.1)\n",
            "Requirement already satisfied: idna==2.* in /usr/local/lib/python3.7/dist-packages (from httpx==0.13.3->googletrans==4.0.0-rc1) (2.10)\n",
            "Requirement already satisfied: chardet==3.* in /usr/local/lib/python3.7/dist-packages (from httpx==0.13.3->googletrans==4.0.0-rc1) (3.0.4)\n",
            "Requirement already satisfied: hstspreload in /usr/local/lib/python3.7/dist-packages (from httpx==0.13.3->googletrans==4.0.0-rc1) (2021.12.1)\n",
            "Requirement already satisfied: sniffio in /usr/local/lib/python3.7/dist-packages (from httpx==0.13.3->googletrans==4.0.0-rc1) (1.2.0)\n",
            "Requirement already satisfied: certifi in /usr/local/lib/python3.7/dist-packages (from httpx==0.13.3->googletrans==4.0.0-rc1) (2022.5.18.1)\n",
            "Requirement already satisfied: h11<0.10,>=0.8 in /usr/local/lib/python3.7/dist-packages (from httpcore==0.9.*->httpx==0.13.3->googletrans==4.0.0-rc1) (0.9.0)\n",
            "Requirement already satisfied: h2==3.* in /usr/local/lib/python3.7/dist-packages (from httpcore==0.9.*->httpx==0.13.3->googletrans==4.0.0-rc1) (3.2.0)\n",
            "Requirement already satisfied: hpack<4,>=3.0 in /usr/local/lib/python3.7/dist-packages (from h2==3.*->httpcore==0.9.*->httpx==0.13.3->googletrans==4.0.0-rc1) (3.0.0)\n",
            "Requirement already satisfied: hyperframe<6,>=5.2.0 in /usr/local/lib/python3.7/dist-packages (from h2==3.*->httpcore==0.9.*->httpx==0.13.3->googletrans==4.0.0-rc1) (5.2.0)\n"
          ]
        }
      ],
      "source": [
        "!pip install googletrans==4.0.0-rc1"
      ]
    },
    {
      "cell_type": "code",
      "execution_count": 7,
      "metadata": {
        "id": "yhP3gEzy-8-m"
      },
      "outputs": [],
      "source": [
        "from googletrans import Translator\n",
        "translator = Translator()"
      ]
    },
    {
      "cell_type": "code",
      "execution_count": 9,
      "metadata": {
        "id": "CH5gRRUWECEp"
      },
      "outputs": [],
      "source": [
        "lang_question = translator.detect(question).lang\n",
        "lang_context = translator.detect(context).lang"
      ]
    },
    {
      "cell_type": "code",
      "execution_count": 12,
      "metadata": {
        "colab": {
          "base_uri": "https://localhost:8080/",
          "height": 0
        },
        "id": "HbL1ZRa6EMvr",
        "outputId": "46ade2b4-6dd1-4d7d-af1b-1b9bb1a2fa4d"
      },
      "outputs": [
        {
          "name": "stdout",
          "output_type": "stream",
          "text": [
            "Language : question(ja), context(ko)\n"
          ]
        }
      ],
      "source": [
        "print(\"Language : question({}), context({})\".format(lang_question, lang_context))"
      ]
    },
    {
      "cell_type": "markdown",
      "metadata": {
        "id": "IYvUC2CqFVh0"
      },
      "source": [
        "### **질문**\n",
        "\n"
      ]
    },
    {
      "cell_type": "markdown",
      "metadata": {
        "id": "ZY7AvQG6PLGu"
      },
      "source": [
        "#### **1. 질문 번역 및 키워드 추출**"
      ]
    },
    {
      "cell_type": "markdown",
      "metadata": {
        "id": "zlBu_G-cGVnx"
      },
      "source": [
        "질문 영어 번역"
      ]
    },
    {
      "cell_type": "code",
      "execution_count": 14,
      "metadata": {
        "colab": {
          "base_uri": "https://localhost:8080/",
          "height": 0
        },
        "id": "xIchMdAGFih7",
        "outputId": "0c0e661b-5bc9-498e-8bc8-1fbd447fcb6a"
      },
      "outputs": [
        {
          "name": "stdout",
          "output_type": "stream",
          "text": [
            "Which is the hottest and continuous area in the world?\n"
          ]
        }
      ],
      "source": [
        "question_en = translator.translate(question, dest='en', src=lang_question).text\n",
        "print(question_en)"
      ]
    },
    {
      "cell_type": "markdown",
      "metadata": {
        "id": "b3-0bvzmGbkn"
      },
      "source": [
        "전처리를 통한 영어 키워드 집합 구성"
      ]
    },
    {
      "cell_type": "markdown",
      "metadata": {
        "id": "pO8U1hilH5nm"
      },
      "source": [
        "- nltk(Natural Language Tool Kit) 패키지 설치"
      ]
    },
    {
      "cell_type": "code",
      "execution_count": 15,
      "metadata": {
        "colab": {
          "base_uri": "https://localhost:8080/",
          "height": 0
        },
        "id": "NcANwYV0Ggt2",
        "outputId": "c6e5c93e-8cf8-422e-faaf-1676998749b1"
      },
      "outputs": [
        {
          "name": "stdout",
          "output_type": "stream",
          "text": [
            "Looking in indexes: https://pypi.org/simple, https://us-python.pkg.dev/colab-wheels/public/simple/\n",
            "Requirement already satisfied: nltk in /usr/local/lib/python3.7/dist-packages (3.2.5)\n",
            "Requirement already satisfied: six in /usr/local/lib/python3.7/dist-packages (from nltk) (1.15.0)\n"
          ]
        }
      ],
      "source": [
        "!pip install nltk"
      ]
    },
    {
      "cell_type": "code",
      "execution_count": 23,
      "metadata": {
        "colab": {
          "base_uri": "https://localhost:8080/",
          "height": 0
        },
        "id": "_xwLxLHRGrwx",
        "outputId": "acd3fe91-f512-4386-8de8-99e3c373d2cb"
      },
      "outputs": [
        {
          "name": "stdout",
          "output_type": "stream",
          "text": [
            "[nltk_data] Downloading package punkt to /root/nltk_data...\n",
            "[nltk_data]   Package punkt is already up-to-date!\n",
            "[nltk_data] Downloading package stopwords to /root/nltk_data...\n",
            "[nltk_data]   Package stopwords is already up-to-date!\n",
            "[nltk_data] Downloading package averaged_perceptron_tagger to\n",
            "[nltk_data]     /root/nltk_data...\n",
            "[nltk_data]   Unzipping taggers/averaged_perceptron_tagger.zip.\n"
          ]
        },
        {
          "data": {
            "text/plain": [
              "True"
            ]
          },
          "execution_count": 23,
          "metadata": {},
          "output_type": "execute_result"
        }
      ],
      "source": [
        "import nltk\n",
        "\n",
        "nltk.download('punkt')\n",
        "nltk.download('stopwords')\n",
        "nltk.download('averaged_perceptron_tagger')"
      ]
    },
    {
      "cell_type": "markdown",
      "metadata": {
        "id": "JZnIR8WYH_w7"
      },
      "source": [
        "- 전처리 작업\n",
        "  + remove special character\n",
        "  + tokenize\n",
        "  + extract certain POS\n",
        "  + remove stopwords"
      ]
    },
    {
      "cell_type": "code",
      "execution_count": 28,
      "metadata": {
        "colab": {
          "base_uri": "https://localhost:8080/",
          "height": 0
        },
        "id": "A4SmCW9fG-E8",
        "outputId": "d9ff64de-86ea-4494-df12-811cd59870dd"
      },
      "outputs": [
        {
          "name": "stdout",
          "output_type": "stream",
          "text": [
            "Source : Which is the hottest and continuous area in the world?\n",
            "Lower : Which is the hottest and continuous area in the world?\n",
            "Remove special character : Which is the hottest and continuous area in the world \n",
            "Tokenizing :  ['Which', 'is', 'the', 'hottest', 'and', 'continuous', 'area', 'in', 'the', 'world']\n",
            "Pos-tagging : [('Which', 'WDT'), ('is', 'VBZ'), ('the', 'DT'), ('hottest', 'NN'), ('and', 'CC'), ('continuous', 'JJ'), ('area', 'NN'), ('in', 'IN'), ('the', 'DT'), ('world', 'NN')]\n",
            "POS Extraction :  ['is', 'hottest', 'continuous', 'area', 'world']\n",
            "Keyword_en : ['hottest', 'continuous', 'area', 'world']\n"
          ]
        }
      ],
      "source": [
        "import re\n",
        "\n",
        "print(\"Source :\", question_en)\n",
        "\n",
        "question_prep = question_en\n",
        "\n",
        "# lower\n",
        "question_prep.lower()\n",
        "print(\"Lower :\", question_prep)\n",
        "\n",
        "# remove special character\n",
        "question_prep = re.sub(r'[^a-zA-Z0-9]', ' ', question_prep)\n",
        "print(\"Remove special character :\", question_prep)\n",
        "\n",
        "# tokenize\n",
        "words = nltk.tokenize.word_tokenize(question_prep)\n",
        "print(\"Tokenizing : \", words)\n",
        "\n",
        "# POS tagging\n",
        "postagged = nltk.tag.pos_tag(words)\n",
        "print(\"Pos-tagging :\", postagged)\n",
        "\n",
        "# extract certain POS (명사, 동사, 형용사)\n",
        "pos = ['NN', 'NNS', 'NNP', 'NNPS', 'VB', 'VBD', 'VBG', 'VBN', 'VBP', 'VBZ', 'JJ', 'JJR', 'JJS'] \n",
        "\n",
        "extracted = []\n",
        "for word in postagged:\n",
        "  if word[1] in pos:\n",
        "      extracted.append(word[0])\n",
        "print(\"POS Extraction : \", extracted)\n",
        "\n",
        "# remove stopwords\n",
        "keywords_en = []\n",
        "for word in extracted:\n",
        "  if word not in nltk.corpus.stopwords.words('english'):\n",
        "      keywords_en.append(word)\n",
        "print(\"Keyword_en :\", keywords_en)\n"
      ]
    },
    {
      "cell_type": "markdown",
      "metadata": {
        "id": "3EtCl6k1OvAT"
      },
      "source": [
        "#### **2. 동의어, 유의어를 활용한 키워드 증강**\n",
        "\n"
      ]
    },
    {
      "cell_type": "markdown",
      "metadata": {
        "id": "tbLgirEsO5pt"
      },
      "source": [
        "WordsAPI 연결"
      ]
    },
    {
      "cell_type": "code",
      "execution_count": 38,
      "metadata": {
        "id": "FOQuBWFXPpvc"
      },
      "outputs": [],
      "source": [
        "import requests\n",
        "import json\n",
        "\n",
        "url = \"https://wordsapiv1.p.rapidapi.com/words/\" # request = url + word + \"/similarTo\"\n",
        "rel = \"similarTo\"\n",
        "\n",
        "headers = {\n",
        "\t\"X-RapidAPI-Key\": \"c0ed2e029bmsh5d858667e5f9cbbp1fb318jsnc96cad8b4d64\",\n",
        "\t\"X-RapidAPI-Host\": \"wordsapiv1.p.rapidapi.com\"\n",
        "}"
      ]
    },
    {
      "cell_type": "markdown",
      "metadata": {
        "id": "lBlNyb9cXZdZ"
      },
      "source": [
        "키워드 증강"
      ]
    },
    {
      "cell_type": "code",
      "execution_count": 43,
      "metadata": {
        "colab": {
          "base_uri": "https://localhost:8080/",
          "height": 0
        },
        "id": "oxihntqTSBBm",
        "outputId": "32fdef6b-66e7-45c1-ff87-19a9649d89c9"
      },
      "outputs": [
        {
          "name": "stdout",
          "output_type": "stream",
          "text": [
            "{'area': [],\n",
            " 'continuous': ['unremitting',\n",
            "                'sustained',\n",
            "                'unceasing',\n",
            "                'around-the-clock',\n",
            "                'ceaseless',\n",
            "                'consecutive',\n",
            "                'constant',\n",
            "                'continual',\n",
            "                'day-and-night',\n",
            "                'dogging',\n",
            "                'endless',\n",
            "                'free burning',\n",
            "                'incessant',\n",
            "                'never-ending',\n",
            "                'nonstop',\n",
            "                'perpetual',\n",
            "                'persisting',\n",
            "                'round-the-clock',\n",
            "                'straight'],\n",
            " 'hottest': [],\n",
            " 'world': ['international']}\n"
          ]
        }
      ],
      "source": [
        "from pprint import pprint as pp\n",
        "\n",
        "synonyms_en = dict()\n",
        "for keyword in keywords_en:\n",
        "  requestUrl = \"\".join([url, keyword, \"/\", rel])\n",
        "  response = requests.request(\"GET\", requestUrl, headers=headers)\n",
        "  synonyms_en[keyword] = json.loads(response.text)[rel]\n",
        "\n",
        "pp(synonyms_en)"
      ]
    },
    {
      "cell_type": "markdown",
      "metadata": {
        "id": "KO08CvcdZg-y"
      },
      "source": [
        "#### **3. 키워드 집합을 지문의 언어로 번역하여 재구성**"
      ]
    },
    {
      "cell_type": "code",
      "execution_count": 49,
      "metadata": {
        "colab": {
          "base_uri": "https://localhost:8080/",
          "height": 0
        },
        "id": "wbyCtuRGXXxK",
        "outputId": "41218249-32c9-4512-8c35-306d085bd5e0"
      },
      "outputs": [
        {
          "name": "stdout",
          "output_type": "stream",
          "text": [
            "{'가장 뜨거운': [],\n",
            " '마디 없는': ['지속',\n",
            "           '빈번한',\n",
            "           '24 시간',\n",
            "           '무료 화상',\n",
            "           '낮과 밤',\n",
            "           '24 일',\n",
            "           '끝이 없습니다',\n",
            "           '똑바로',\n",
            "           '논스톱',\n",
            "           '강아지',\n",
            "           '끊임없는',\n",
            "           '연속',\n",
            "           '지속되었습니다',\n",
            "           '연이은',\n",
            "           '끝없는'],\n",
            " '세계': ['국제적인'],\n",
            " '지역': []}\n"
          ]
        }
      ],
      "source": [
        "synonyms_target = {}\n",
        "for k, syn in synonyms_en.items():\n",
        "  tk = translator.translate(k, dest=lang_context, src='en').text\n",
        "  ts = [translator.translate(s, dest=lang_context, src='en').text for s in syn]\n",
        "  ts = list(set(ts)) # 중복 제거\n",
        "  synonyms_target[tk] = ts\n",
        "\n",
        "pp(synonyms_target)"
      ]
    },
    {
      "cell_type": "markdown",
      "metadata": {
        "id": "Em-o0SSnbTVm"
      },
      "source": [
        "### 지문"
      ]
    },
    {
      "cell_type": "markdown",
      "metadata": {
        "id": "55wPjiFIbVqA"
      },
      "source": [
        "#### **1. 문장단위 분할**"
      ]
    },
    {
      "cell_type": "code",
      "execution_count": 47,
      "metadata": {
        "colab": {
          "base_uri": "https://localhost:8080/",
          "height": 0
        },
        "id": "1z-XC_mpcuLF",
        "outputId": "2a9c524e-56b2-47ff-ef25-e83b96710170"
      },
      "outputs": [
        {
          "name": "stdout",
          "output_type": "stream",
          "text": [
            "Looking in indexes: https://pypi.org/simple, https://us-python.pkg.dev/colab-wheels/public/simple/\n",
            "Collecting kss\n",
            "  Downloading kss-3.4.2.tar.gz (42.4 MB)\n",
            "\u001b[K     |████████████████████████████████| 42.4 MB 2.0 MB/s \n",
            "\u001b[?25hCollecting emoji\n",
            "  Downloading emoji-1.7.0.tar.gz (175 kB)\n",
            "\u001b[K     |████████████████████████████████| 175 kB 57.4 MB/s \n",
            "\u001b[?25hRequirement already satisfied: regex in /usr/local/lib/python3.7/dist-packages (from kss) (2019.12.20)\n",
            "Requirement already satisfied: more_itertools in /usr/local/lib/python3.7/dist-packages (from kss) (8.13.0)\n",
            "Building wheels for collected packages: kss, emoji\n",
            "  Building wheel for kss (setup.py) ... \u001b[?25l\u001b[?25hdone\n",
            "  Created wheel for kss: filename=kss-3.4.2-py3-none-any.whl size=42448069 sha256=8f7662a3b22e0762ca2b13863c8cb543d5d982ed742f539f8bfd77727beeaf26\n",
            "  Stored in directory: /root/.cache/pip/wheels/ef/22/aa/6399b60516a067ec97fa6599fb2d472aeb25e3f9ee6dae3224\n",
            "  Building wheel for emoji (setup.py) ... \u001b[?25l\u001b[?25hdone\n",
            "  Created wheel for emoji: filename=emoji-1.7.0-py3-none-any.whl size=171046 sha256=deac7d340db74d45215cb039127c4c5064c4b3fd24190071d2f441d2081e19f0\n",
            "  Stored in directory: /root/.cache/pip/wheels/8a/4e/b6/57b01db010d17ef6ea9b40300af725ef3e210cb1acfb7ac8b6\n",
            "Successfully built kss emoji\n",
            "Installing collected packages: emoji, kss\n",
            "Successfully installed emoji-1.7.0 kss-3.4.2\n"
          ]
        }
      ],
      "source": [
        "!pip install kss #Korean Sentence Splitter"
      ]
    },
    {
      "cell_type": "code",
      "execution_count": 48,
      "metadata": {
        "colab": {
          "base_uri": "https://localhost:8080/",
          "height": 0
        },
        "id": "BFuO2SDJbcVE",
        "outputId": "da39f3eb-9c31-4244-8554-47024cd4738f"
      },
      "outputs": [
        {
          "name": "stderr",
          "output_type": "stream",
          "text": [
            "[Korean Sentence Splitter]: Initializing Pynori...\n"
          ]
        },
        {
          "data": {
            "text/plain": [
              "['하늘은 일반적으로 사막 위의 맑음이며 일조 지속 시간은 사하라 사막의 모든 곳에서 매우 높습니다.',\n",
              " '대부분의 사막은 연간 3,600시간 이상의 밝은 일조 또는 82% 이상의 시간을 경험하고 동부의 넓은 지역은 연간 4,000시간 이상의 밝은 일조 또는 91% 이상의 시간을 경험하며, 가장 높은 값은 이론상 최대값에 매우 가깝습니다.',\n",
              " '시간의 98%인 4,300시간의 값은 상이집트(아스완, 룩소르)와 누비아 사막(와디 할파)에서 기록될 것입니다.',\n",
              " '대사막의 연간 평균 직사광선 조사량은 약 2,800kWh/(m2/년)입니다.',\n",
              " '사하라 사막은 태양 에너지 생산에 대한 거대한 잠재력을 가지고 있습니다.',\n",
              " '지속적으로 높은 태양의 위치, 극도로 낮은 상대 습도, 초목과 강우의 부족으로 인해 대사막은 전 세계적으로 계속해서 가장 더운 지역이 되었으며 여름에는 확실히 어떤 지역에서는 지구상에서 가장 더운 곳이 되었습니다.',\n",
              " '평균 고온은 매우 높은 산악 지역을 제외하고 사막의 거의 모든 곳에서 가장 더운 달 동안 38°C(100.4°F) - 40°C(104°F)를 초과합니다.',\n",
              " '공식적으로 기록된 최고 평균 최고 기온은 해발 378m의 Bou Bernous라고 불리는 알제리 사막의 외딴 사막 마을에서 47°C(116.6°F)였습니다.',\n",
              " '그것은 세계에서 가장 높은 기록된 평균 고온이며 캘리포니아의 데스 밸리(Death Valley)만이 이에 필적합니다.',\n",
              " 'Adrar, Timimoun, In Salah, Ouallene, Aoulef, Reggane과 같은 알제리의 다른 핫스팟은 해발 200~400미터 높이에서 가장 더운 달 동안 46°C(114.8°F) 주변에서 약간 더 낮은 여름 평균 최고치를 얻습니다.',\n",
              " '그',\n",
              " '해. 알제리에서 극심한 더위로 잘 알려진 Salah의 평균 고온은 43.8°C(110.8°F), 46.4°C(115.5°F), 45.5(113.9°F)입니다.',\n",
              " '또한 6월, 7월, 8월, 9월에는 41.9°C(107.4°F)입니다.',\n",
              " '사실, 사하라 사막에는 더 뜨거운 곳이 있지만 그들은 극도로 외딴 지역, 특히 북부 말리의 아잘라이 지역에 위치하고 있습니다.',\n",
              " '사막의 대부분은 평균 최고 온도가 40°C(104°F)를 엄격히 초과하는 약 3~5개월을 경험합니다.',\n",
              " '사막의 남쪽 중앙 부분은 평균 고온이 40°C(104°F)를 엄격히 초과하는 최대 6-7개월을 경험하며 이는 사하라 사막의 정말 더운 계절의 지속성과 길이를 보여줍니다.',\n",
              " '이에 대한 몇 가지 예는 니제르의 Bilma와 Chad의 Faya-Largeau입니다.',\n",
              " '연간 평균 일일 온도는 모든 곳에서 20°C(68°F)를 초과하고 연중 가장 더운 지역에서는 30°C(86°F)에 도달할 수 있습니다.',\n",
              " '그러나 대부분의 사막은 25°C(77°F)를 초과하는 값을 가지고 있습니다.',\n",
              " '모래와 땅의 온도는 훨씬 더 극단적입니다.',\n",
              " '주간에는 모래 온도가 80°C(176°F) 이상에 쉽게 도달할 수 있으므로 매우 높습니다.',\n",
              " '포트 수단의 모래 온도는 83.5 °C(182.3 °F)로 기록되었습니다.',\n",
              " '72°C(161.6°F)의 지상 온도는 모리타니의 Adarr에서 기록되었으며 75°C(167°F)의 값은 북부 차드의 Borkou에서 측정되었습니다.',\n",
              " '구름이 적고 습도가 매우 낮기 때문에 사막은 일반적으로 낮과 밤의 일교차가 높습니다.',\n",
              " '그러나 사하라 사막에서 매우 더운 날이 지나면 밤이 춥다는 것은 신화입니다.',\n",
              " '평균 주간 온도 범위는 일반적으로 13°C(55.4°F)에서 20°C(68°F) 사이입니다.',\n",
              " '가장 낮은 값은 높은 습도로 인해 해안 지역에서 발견되며 종종 10°C(50°F)보다 더 낮습니다.',\n",
              " '반면 가장 높은 값은 습도가 가장 낮은 내륙 사막 지역, 주로 남부 사하라 사막에서 발견됩니다. .',\n",
              " '그래도 겨울 밤은 영하로 떨어질 수 있고 특히 고도가 높은 지역에서는 영하로 떨어질 수 있기 때문에 추울 수 있는 것이 사실입니다.']"
            ]
          },
          "execution_count": 48,
          "metadata": {},
          "output_type": "execute_result"
        }
      ],
      "source": [
        "import kss\n",
        "\n",
        "sentence_ = [sent for sent in kss.split_sentences(context)]\n",
        "sentence_"
      ]
    },
    {
      "cell_type": "code",
      "execution_count": 83,
      "metadata": {
        "colab": {
          "base_uri": "https://localhost:8080/",
          "height": 0
        },
        "id": "AEJJ7yttENk1",
        "outputId": "af89526f-e659-401c-f419-340b569711ef"
      },
      "outputs": [
        {
          "data": {
            "text/plain": [
              "29"
            ]
          },
          "execution_count": 83,
          "metadata": {},
          "output_type": "execute_result"
        }
      ],
      "source": [
        "len(sentence_)"
      ]
    },
    {
      "cell_type": "markdown",
      "metadata": {
        "id": "-WBPAbUBdlFh"
      },
      "source": [
        "#### **2. 키워드 집합에 대한 출현 빈도 집계**"
      ]
    },
    {
      "cell_type": "code",
      "execution_count": 98,
      "metadata": {
        "id": "CKAyMylVVU-9"
      },
      "outputs": [],
      "source": [
        "countedWord = []"
      ]
    },
    {
      "cell_type": "code",
      "execution_count": 99,
      "metadata": {
        "colab": {
          "base_uri": "https://localhost:8080/"
        },
        "id": "a5y3UNLMdrig",
        "outputId": "cc71a8a7-7515-4da7-b3a9-39d5b2064b64"
      },
      "outputs": [
        {
          "name": "stdout",
          "output_type": "stream",
          "text": [
            "[1, 1, 0, 0, 0, 3, 1, 0, 1, 0, 0, 0, 0, 1, 0, 1, 0, 1, 0, 0, 0, 0, 0, 1, 0, 0, 1, 1, 1]\n",
            "{'지속', '지역', '낮과 밤', '세계'}\n"
          ]
        }
      ],
      "source": [
        "count = [0] * len(sentence_) # init count to zero\n",
        "\n",
        "for i, sent in enumerate(sentence_):\n",
        "  for k, syn in synonyms_target.items():\n",
        "    # count\n",
        "    if sent.find(k) != -1:\n",
        "      count[i] += 1\n",
        "      countedWord.append(k) # for check counted word\n",
        "    for s in syn:\n",
        "      if sent.find(s) != -1:\n",
        "        count[i] += 1\n",
        "        countedWord.append(s) # for check counted word\n",
        "\n",
        "print(count)\n",
        "print(set(countedWord))"
      ]
    },
    {
      "cell_type": "markdown",
      "metadata": {
        "id": "7Bcr94OJirza"
      },
      "source": [
        "#### **3. 범위 단위의 번역 우선순위 지정**"
      ]
    },
    {
      "cell_type": "markdown",
      "metadata": {
        "id": "J8zk365yixCy"
      },
      "source": [
        "범위(앞 5 문장)내 count 합산 : addUp\n",
        "\n",
        "\n"
      ]
    },
    {
      "cell_type": "code",
      "execution_count": 84,
      "metadata": {
        "colab": {
          "base_uri": "https://localhost:8080/",
          "height": 0
        },
        "id": "dYuSh6-linFP",
        "outputId": "d4b7d5f1-49f0-4c8f-e1cc-243a4b87594c"
      },
      "outputs": [
        {
          "name": "stdout",
          "output_type": "stream",
          "text": [
            "[0, 0, 0, 0, 2, 4, 4, 4, 5, 5, 2, 1, 1, 1, 1, 2, 2, 3, 2, 2, 1, 1, 0, 1, 1, 1, 2, 3, 3]\n"
          ]
        }
      ],
      "source": [
        "bound = 4 # + self = 5\n",
        "\n",
        "addUp = [0] * len(count) # init sum to zero\n",
        "\n",
        "for i in range(len(addUp)):\n",
        "  if i == len(addUp) - 1: # last\n",
        "    addUp[i] = sum(count[i-bound:]) # cuz i+1 : out of range\n",
        "  elif i >= bound:\n",
        "    addUp[i] = sum(count[i-bound:i+1])\n",
        "\n",
        "print(addUp)"
      ]
    },
    {
      "cell_type": "markdown",
      "metadata": {
        "id": "8WYTwgz1qNV1"
      },
      "source": [
        "sum의 내림차순에 따라 우선순위 지정"
      ]
    },
    {
      "cell_type": "code",
      "execution_count": 85,
      "metadata": {
        "colab": {
          "base_uri": "https://localhost:8080/",
          "height": 0
        },
        "id": "_rCOVGpiqSsY",
        "outputId": "5165d434-3817-421d-941c-b4df25c18e7d"
      },
      "outputs": [
        {
          "name": "stdout",
          "output_type": "stream",
          "text": [
            "[5 5 4 4 4 3 3 3 2 2 2 2 2 2 2 1 1 1 1 1 1 1 1 1 0 0 0 0 0]\n",
            "[ 8  9  5  6  7 28 17 27 26  4 19 18 16 15 10 11 14 12 13 20 21 23 24 25\n",
            " 22  3  2  1  0]\n"
          ]
        }
      ],
      "source": [
        "import numpy as np\n",
        "\n",
        "np_addUp = np.array(addUp)\n",
        "\n",
        "desc_addUp = np.sort(np_addUp)[::-1] # 내림차순 정렬\n",
        "desc_idxes = np.argsort(np_addUp)[::-1] # 내림차순 정렬된 인덱스\n",
        "\n",
        "print(desc_addUp)\n",
        "print(desc_idxes)"
      ]
    },
    {
      "cell_type": "code",
      "execution_count": 86,
      "metadata": {
        "colab": {
          "base_uri": "https://localhost:8080/",
          "height": 0
        },
        "id": "wsZsYu-U4neV",
        "outputId": "53b64212-4a5c-4d8a-a96b-98c423db6623"
      },
      "outputs": [
        {
          "name": "stdout",
          "output_type": "stream",
          "text": [
            "[28, 27, 26, 25, 9, 2, 3, 4, 0, 1, 14, 15, 17, 18, 16, 13, 12, 6, 11, 10, 19, 20, 24, 21, 22, 23, 8, 7, 5]\n"
          ]
        }
      ],
      "source": [
        "priority = [0] * len(addUp)\n",
        "for i, idx in enumerate(desc_idxes):\n",
        "  priority[idx] = i # assign priority from 0(hign) to last(low)\n",
        "\n",
        "print(priority)"
      ]
    },
    {
      "cell_type": "markdown",
      "metadata": {
        "id": "z9MUB5g76Pbq"
      },
      "source": [
        "#### **4. 번역 범위 우선순위에 따른 번역 수행**"
      ]
    },
    {
      "cell_type": "code",
      "execution_count": null,
      "metadata": {
        "id": "3zsGi-Si6Tlx"
      },
      "outputs": [],
      "source": [
        "\n",
        "\"\"\"\n",
        "# priority 오름차순 정렬 인덱스 = sum 내림차순 정렬 인덱스\n",
        "\n",
        "np_priority = np.array(priority)\n",
        "asc_idxes = np.argsort(np_priority) # priority 오름차순 정렬 인덱스\n",
        "print(asc_idxes)\n",
        "\n",
        "# [ 9  8  5  7  6 27 17 28  4 10 18  3 16 15  2  1 26 19 14 11 12 13 20 21\n",
        " 23 24 25  0 22]\n",
        "\n",
        "# 굳이 priority 운영 필요 없음\n",
        "\n",
        "\"\"\""
      ]
    },
    {
      "cell_type": "markdown",
      "metadata": {
        "id": "UZijqloR9ODE"
      },
      "source": [
        "번역 범위 제한 (treshold)"
      ]
    },
    {
      "cell_type": "code",
      "execution_count": 91,
      "metadata": {
        "colab": {
          "base_uri": "https://localhost:8080/",
          "height": 0
        },
        "id": "Yfxin4F17aZp",
        "outputId": "43e4ce7c-9d06-4e1d-c5b8-f87435f3c87c"
      },
      "outputs": [
        {
          "name": "stdout",
          "output_type": "stream",
          "text": [
            "[ 8  9  5  6  7 28 17 27 26]\n"
          ]
        }
      ],
      "source": [
        "treshold = int(len(sentence_) / 3) # 29 / 3 = 9\n",
        "\n",
        "# limit\n",
        "part_idxes = desc_idxes[:treshold]\n",
        "\n",
        "print(part_idxes)"
      ]
    },
    {
      "cell_type": "markdown",
      "metadata": {
        "id": "zUSRNUI79Rxe"
      },
      "source": [
        "tFlag & translated로 부분 번역\n",
        "\n",
        "> 우선번역되는 범위만을 추출하여 출력"
      ]
    },
    {
      "cell_type": "code",
      "execution_count": 92,
      "metadata": {
        "colab": {
          "base_uri": "https://localhost:8080/",
          "height": 0
        },
        "id": "3SKAdwy69jcu",
        "outputId": "d3b17af6-fe5f-4509-88fc-9660505d6d33"
      },
      "outputs": [
        {
          "data": {
            "text/plain": [
              "['사하라 사막은 태양 에너지 생산에 대한 거대한 잠재력을 가지고 있습니다.지속적으로 높은 태양의 위치, 극도로 낮은 상대 습도, 초목과 강우의 부족으로 인해 대사막은 전 세계적으로 계속해서 가장 더운 지역이 되었으며 여름에는 확실히 어떤 지역에서는 지구상에서 가장 더운 곳이 되었습니다.평균 고온은 매우 높은 산악 지역을 제외하고 사막의 거의 모든 곳에서 가장 더운 달 동안 38°C(100.4°F) - 40°C(104°F)를 초과합니다.공식적으로 기록된 최고 평균 최고 기온은 해발 378m의 Bou Bernous라고 불리는 알제리 사막의 외딴 사막 마을에서 47°C(116.6°F)였습니다.그것은 세계에서 가장 높은 기록된 평균 고온이며 캘리포니아의 데스 밸리(Death Valley)만이 이에 필적합니다.',\n",
              " '지속적으로 높은 태양의 위치, 극도로 낮은 상대 습도, 초목과 강우의 부족으로 인해 대사막은 전 세계적으로 계속해서 가장 더운 지역이 되었으며 여름에는 확실히 어떤 지역에서는 지구상에서 가장 더운 곳이 되었습니다.평균 고온은 매우 높은 산악 지역을 제외하고 사막의 거의 모든 곳에서 가장 더운 달 동안 38°C(100.4°F) - 40°C(104°F)를 초과합니다.공식적으로 기록된 최고 평균 최고 기온은 해발 378m의 Bou Bernous라고 불리는 알제리 사막의 외딴 사막 마을에서 47°C(116.6°F)였습니다.그것은 세계에서 가장 높은 기록된 평균 고온이며 캘리포니아의 데스 밸리(Death Valley)만이 이에 필적합니다.Adrar, Timimoun, In Salah, Ouallene, Aoulef, Reggane과 같은 알제리의 다른 핫스팟은 해발 200~400미터 높이에서 가장 더운 달 동안 46°C(114.8°F) 주변에서 약간 더 낮은 여름 평균 최고치를 얻습니다.',\n",
              " '대부분의 사막은 연간 3,600시간 이상의 밝은 일조 또는 82% 이상의 시간을 경험하고 동부의 넓은 지역은 연간 4,000시간 이상의 밝은 일조 또는 91% 이상의 시간을 경험하며, 가장 높은 값은 이론상 최대값에 매우 가깝습니다.시간의 98%인 4,300시간의 값은 상이집트(아스완, 룩소르)와 누비아 사막(와디 할파)에서 기록될 것입니다.대사막의 연간 평균 직사광선 조사량은 약 2,800kWh/(m2/년)입니다.사하라 사막은 태양 에너지 생산에 대한 거대한 잠재력을 가지고 있습니다.지속적으로 높은 태양의 위치, 극도로 낮은 상대 습도, 초목과 강우의 부족으로 인해 대사막은 전 세계적으로 계속해서 가장 더운 지역이 되었으며 여름에는 확실히 어떤 지역에서는 지구상에서 가장 더운 곳이 되었습니다.',\n",
              " '시간의 98%인 4,300시간의 값은 상이집트(아스완, 룩소르)와 누비아 사막(와디 할파)에서 기록될 것입니다.대사막의 연간 평균 직사광선 조사량은 약 2,800kWh/(m2/년)입니다.사하라 사막은 태양 에너지 생산에 대한 거대한 잠재력을 가지고 있습니다.지속적으로 높은 태양의 위치, 극도로 낮은 상대 습도, 초목과 강우의 부족으로 인해 대사막은 전 세계적으로 계속해서 가장 더운 지역이 되었으며 여름에는 확실히 어떤 지역에서는 지구상에서 가장 더운 곳이 되었습니다.평균 고온은 매우 높은 산악 지역을 제외하고 사막의 거의 모든 곳에서 가장 더운 달 동안 38°C(100.4°F) - 40°C(104°F)를 초과합니다.',\n",
              " '대사막의 연간 평균 직사광선 조사량은 약 2,800kWh/(m2/년)입니다.사하라 사막은 태양 에너지 생산에 대한 거대한 잠재력을 가지고 있습니다.지속적으로 높은 태양의 위치, 극도로 낮은 상대 습도, 초목과 강우의 부족으로 인해 대사막은 전 세계적으로 계속해서 가장 더운 지역이 되었으며 여름에는 확실히 어떤 지역에서는 지구상에서 가장 더운 곳이 되었습니다.평균 고온은 매우 높은 산악 지역을 제외하고 사막의 거의 모든 곳에서 가장 더운 달 동안 38°C(100.4°F) - 40°C(104°F)를 초과합니다.공식적으로 기록된 최고 평균 최고 기온은 해발 378m의 Bou Bernous라고 불리는 알제리 사막의 외딴 사막 마을에서 47°C(116.6°F)였습니다.',\n",
              " '그러나 사하라 사막에서 매우 더운 날이 지나면 밤이 춥다는 것은 신화입니다.평균 주간 온도 범위는 일반적으로 13°C(55.4°F)에서 20°C(68°F) 사이입니다.가장 낮은 값은 높은 습도로 인해 해안 지역에서 발견되며 종종 10°C(50°F)보다 더 낮습니다.반면 가장 높은 값은 습도가 가장 낮은 내륙 사막 지역, 주로 남부 사하라 사막에서 발견됩니다. .그래도 겨울 밤은 영하로 떨어질 수 있고 특히 고도가 높은 지역에서는 영하로 떨어질 수 있기 때문에 추울 수 있는 것이 사실입니다.',\n",
              " '사실, 사하라 사막에는 더 뜨거운 곳이 있지만 그들은 극도로 외딴 지역, 특히 북부 말리의 아잘라이 지역에 위치하고 있습니다.사막의 대부분은 평균 최고 온도가 40°C(104°F)를 엄격히 초과하는 약 3~5개월을 경험합니다.사막의 남쪽 중앙 부분은 평균 고온이 40°C(104°F)를 엄격히 초과하는 최대 6-7개월을 경험하며 이는 사하라 사막의 정말 더운 계절의 지속성과 길이를 보여줍니다.이에 대한 몇 가지 예는 니제르의 Bilma와 Chad의 Faya-Largeau입니다.연간 평균 일일 온도는 모든 곳에서 20°C(68°F)를 초과하고 연중 가장 더운 지역에서는 30°C(86°F)에 도달할 수 있습니다.',\n",
              " '구름이 적고 습도가 매우 낮기 때문에 사막은 일반적으로 낮과 밤의 일교차가 높습니다.그러나 사하라 사막에서 매우 더운 날이 지나면 밤이 춥다는 것은 신화입니다.평균 주간 온도 범위는 일반적으로 13°C(55.4°F)에서 20°C(68°F) 사이입니다.가장 낮은 값은 높은 습도로 인해 해안 지역에서 발견되며 종종 10°C(50°F)보다 더 낮습니다.반면 가장 높은 값은 습도가 가장 낮은 내륙 사막 지역, 주로 남부 사하라 사막에서 발견됩니다. .',\n",
              " '72°C(161.6°F)의 지상 온도는 모리타니의 Adarr에서 기록되었으며 75°C(167°F)의 값은 북부 차드의 Borkou에서 측정되었습니다.구름이 적고 습도가 매우 낮기 때문에 사막은 일반적으로 낮과 밤의 일교차가 높습니다.그러나 사하라 사막에서 매우 더운 날이 지나면 밤이 춥다는 것은 신화입니다.평균 주간 온도 범위는 일반적으로 13°C(55.4°F)에서 20°C(68°F) 사이입니다.가장 낮은 값은 높은 습도로 인해 해안 지역에서 발견되며 종종 10°C(50°F)보다 더 낮습니다.']"
            ]
          },
          "execution_count": 92,
          "metadata": {},
          "output_type": "execute_result"
        }
      ],
      "source": [
        "div = []\n",
        "for i in range(treshold):\n",
        "  pi = part_idxes[i]\n",
        "\n",
        "  if pi == len(desc_idxes) - 1: # last\n",
        "    div.append(\"\".join(sentence_[pi-bound:])) # cuz p+1 : out of range\n",
        "  elif pi >= bound:\n",
        "    div.append(\"\".join(sentence_[pi-bound:pi+1]))\n",
        "\n",
        "div"
      ]
    },
    {
      "cell_type": "markdown",
      "metadata": {
        "id": "PxBAQDLTQGdC"
      },
      "source": [
        "실제 원문 (answer 부분 문장) 비교"
      ]
    },
    {
      "cell_type": "code",
      "execution_count": 95,
      "metadata": {
        "colab": {
          "base_uri": "https://localhost:8080/",
          "height": 0
        },
        "id": "x1Oy86HlQLCy",
        "outputId": "01208a30-8ef2-45f1-d15b-a660496f3ce1"
      },
      "outputs": [
        {
          "data": {
            "text/plain": [
              "['The sky is usually clear above the desert and the sunshine duration is extremely high everywhere in the Sahara.',\n",
              " 'Most of the desert enjoys more than 3,600 h of bright sunshine annually or over 82% of the time and a wide area in the eastern part experiences in excess of 4,000 h of bright sunshine a year or over 91% of the time, and the highest values are very close to the theoretical maximum value.',\n",
              " 'A value of 4,300 h or 98% of the time would be recorded in Upper Egypt (Aswan, Luxor) and in the Nubian Desert (Wadi Halfa).',\n",
              " 'The annual average direct solar irradiation is around 2,800 kWh/(m2 year) in the Great Desert.',\n",
              " 'The Sahara has a huge potential for solar energy production.',\n",
              " 'The constantly high position of the sun, the extremely low relative humidity, the lack of vegetation and rainfall make the Great Desert the hottest continuously large area worldwide and certainly the hottest place on Earth during summertime in some spots.',\n",
              " 'The average high temperature exceeds 38 °C (100.4 °F) - 40 °C (104 °F) during the hottest month nearly everywhere in the desert except at very high mountainous areas.',\n",
              " 'The highest officially recorded average high temperature was 47 °C (116.6 °F) in a remote desert town in the Algerian Desert called Bou Bernous with an elevation of 378 meters above sea level.',\n",
              " \"It's the world's highest recorded average high temperature and only Death Valley, California rivals it.\",\n",
              " 'Other hot spots in Algeria such as Adrar, Timimoun, In Salah, Ouallene, Aoulef, Reggane with an elevation between 200 and 400 meters above sea level get slightly lower summer average highs around 46 °C (114.8 °F) during the hottest months of the year.',\n",
              " 'Salah, well known in Algeria for its extreme heat, has an average high temperature of 43.8 °C (110.8 °F), 46.4 °C (115.5 °F), 45.5 (113.9 °F).',\n",
              " 'Furthermore, 41.9 °C (107.4 °F) in June, July, August and September.',\n",
              " 'In fact, there are even hotter spots in the Sahara, but they are located in extremely remote areas, especially in the Azalai, lying in northern Mali.',\n",
              " 'The major part of the desert experiences around 3 – 5 months when the average high strictly exceeds 40 °C (104 °F).',\n",
              " 'The southern central part of the desert experiences up to 6 – 7 months when the average high temperature strictly exceeds 40 °C (104 °F) which shows the constancy and the length of the really hot season in the Sahara.',\n",
              " 'Some examples of this are Bilma, Niger and Faya-Largeau, Chad.',\n",
              " 'The annual average daily temperature exceeds 20 °C (68 °F) everywhere and can approach 30 °C (86 °F) in the hottest regions year-round.',\n",
              " 'However, most of the desert has a value in excess of 25 °C (77 °F).',\n",
              " 'The sand and ground temperatures are even more extreme.',\n",
              " 'During daytime, the sand temperature is extremely high as it can easily reach 80 °C (176 °F) or more.',\n",
              " 'A sand temperature of 83.5 °C (182.3 °F) has been recorded in Port Sudan.',\n",
              " 'Ground temperatures of 72 °C (161.6 °F) have been recorded in the Adrar of Mauritania and a value of 75 °C (167 °F) has been measured in Borkou, northern Chad.',\n",
              " 'Due to lack of cloud cover and very low humidity, the desert usually features high diurnal temperature variations between days and nights.',\n",
              " \"However, it's a myth that the nights are cold after extremely hot days in the Sahara.\",\n",
              " 'The average diurnal temperature range is typically between 13 °C (55.4 °F) and 20 °C (68 °F).',\n",
              " 'The lowest values are found along the coastal regions due to high humidity and are often even lower than 10 °C (50 °F), while the highest values are found in inland desert areas where the humidity is the lowest, mainly in the southern Sahara.',\n",
              " \"Still, it's true that winter nights can be cold as it can drop to the freezing point and even below, especially in high-elevation areas.\"]"
            ]
          },
          "execution_count": 95,
          "metadata": {},
          "output_type": "execute_result"
        }
      ],
      "source": [
        "origin = nltk.sent_tokenize(example[\"context\"])\n",
        "origin"
      ]
    },
    {
      "cell_type": "code",
      "execution_count": 96,
      "metadata": {
        "colab": {
          "base_uri": "https://localhost:8080/",
          "height": 0
        },
        "id": "IbXNOjNnSwqc",
        "outputId": "e872df59-587f-4be8-ddec-c7ac8651ee11"
      },
      "outputs": [
        {
          "data": {
            "text/plain": [
              "['하늘은 일반적으로 사막 위의 맑음이며 일조 지속 시간은 사하라 사막의 모든 곳에서 매우 높습니다.',\n",
              " '대부분의 사막은 연간 3,600시간 이상의 밝은 일조 또는 82% 이상의 시간을 경험하고 동부의 넓은 지역은 연간 4,000시간 이상의 밝은 일조 또는 91% 이상의 시간을 경험하며, 가장 높은 값은 이론상 최대값에 매우 가깝습니다.',\n",
              " '시간의 98%인 4,300시간의 값은 상이집트(아스완, 룩소르)와 누비아 사막(와디 할파)에서 기록될 것입니다.',\n",
              " '대사막의 연간 평균 직사광선 조사량은 약 2,800kWh/(m2/년)입니다.',\n",
              " '사하라 사막은 태양 에너지 생산에 대한 거대한 잠재력을 가지고 있습니다.',\n",
              " '지속적으로 높은 태양의 위치, 극도로 낮은 상대 습도, 초목과 강우의 부족으로 인해 대사막은 전 세계적으로 계속해서 가장 더운 지역이 되었으며 여름에는 확실히 어떤 지역에서는 지구상에서 가장 더운 곳이 되었습니다.',\n",
              " '평균 고온은 매우 높은 산악 지역을 제외하고 사막의 거의 모든 곳에서 가장 더운 달 동안 38°C(100.4°F) - 40°C(104°F)를 초과합니다.',\n",
              " '공식적으로 기록된 최고 평균 최고 기온은 해발 378m의 Bou Bernous라고 불리는 알제리 사막의 외딴 사막 마을에서 47°C(116.6°F)였습니다.',\n",
              " '그것은 세계에서 가장 높은 기록된 평균 고온이며 캘리포니아의 데스 밸리(Death Valley)만이 이에 필적합니다.',\n",
              " 'Adrar, Timimoun, In Salah, Ouallene, Aoulef, Reggane과 같은 알제리의 다른 핫스팟은 해발 200~400미터 높이에서 가장 더운 달 동안 46°C(114.8°F) 주변에서 약간 더 낮은 여름 평균 최고치를 얻습니다.',\n",
              " '그',\n",
              " '해. 알제리에서 극심한 더위로 잘 알려진 Salah의 평균 고온은 43.8°C(110.8°F), 46.4°C(115.5°F), 45.5(113.9°F)입니다.',\n",
              " '또한 6월, 7월, 8월, 9월에는 41.9°C(107.4°F)입니다.',\n",
              " '사실, 사하라 사막에는 더 뜨거운 곳이 있지만 그들은 극도로 외딴 지역, 특히 북부 말리의 아잘라이 지역에 위치하고 있습니다.',\n",
              " '사막의 대부분은 평균 최고 온도가 40°C(104°F)를 엄격히 초과하는 약 3~5개월을 경험합니다.',\n",
              " '사막의 남쪽 중앙 부분은 평균 고온이 40°C(104°F)를 엄격히 초과하는 최대 6-7개월을 경험하며 이는 사하라 사막의 정말 더운 계절의 지속성과 길이를 보여줍니다.',\n",
              " '이에 대한 몇 가지 예는 니제르의 Bilma와 Chad의 Faya-Largeau입니다.',\n",
              " '연간 평균 일일 온도는 모든 곳에서 20°C(68°F)를 초과하고 연중 가장 더운 지역에서는 30°C(86°F)에 도달할 수 있습니다.',\n",
              " '그러나 대부분의 사막은 25°C(77°F)를 초과하는 값을 가지고 있습니다.',\n",
              " '모래와 땅의 온도는 훨씬 더 극단적입니다.',\n",
              " '주간에는 모래 온도가 80°C(176°F) 이상에 쉽게 도달할 수 있으므로 매우 높습니다.',\n",
              " '포트 수단의 모래 온도는 83.5 °C(182.3 °F)로 기록되었습니다.',\n",
              " '72°C(161.6°F)의 지상 온도는 모리타니의 Adarr에서 기록되었으며 75°C(167°F)의 값은 북부 차드의 Borkou에서 측정되었습니다.',\n",
              " '구름이 적고 습도가 매우 낮기 때문에 사막은 일반적으로 낮과 밤의 일교차가 높습니다.',\n",
              " '그러나 사하라 사막에서 매우 더운 날이 지나면 밤이 춥다는 것은 신화입니다.',\n",
              " '평균 주간 온도 범위는 일반적으로 13°C(55.4°F)에서 20°C(68°F) 사이입니다.',\n",
              " '가장 낮은 값은 높은 습도로 인해 해안 지역에서 발견되며 종종 10°C(50°F)보다 더 낮습니다.',\n",
              " '반면 가장 높은 값은 습도가 가장 낮은 내륙 사막 지역, 주로 남부 사하라 사막에서 발견됩니다. .',\n",
              " '그래도 겨울 밤은 영하로 떨어질 수 있고 특히 고도가 높은 지역에서는 영하로 떨어질 수 있기 때문에 추울 수 있는 것이 사실입니다.']"
            ]
          },
          "execution_count": 96,
          "metadata": {},
          "output_type": "execute_result"
        }
      ],
      "source": [
        "sentence_"
      ]
    },
    {
      "cell_type": "markdown",
      "metadata": {
        "id": "bCHgMhzhUnwW"
      },
      "source": [
        "answer : the Great Desert \n",
        " - origin[3], origin[5]\n",
        " - sentence_[3], sentence_[5]"
      ]
    },
    {
      "cell_type": "markdown",
      "metadata": {
        "id": "sOkPkV7RSPWP"
      },
      "source": [
        "![table.PNG](data:image/png;base64,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)"
      ]
    }
  ],
  "metadata": {
    "colab": {
      "collapsed_sections": [],
      "name": "demo.ipynb",
      "provenance": [],
      "toc_visible": true
    },
    "kernelspec": {
      "display_name": "Python 3",
      "name": "python3"
    },
    "language_info": {
      "name": "python"
    }
  },
  "nbformat": 4,
  "nbformat_minor": 0
}
